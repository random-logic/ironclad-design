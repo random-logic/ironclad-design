{
 "cells": [
  {
   "cell_type": "code",
   "id": "initial_id",
   "metadata": {
    "collapsed": true,
    "jupyter": {
     "is_executing": true
    },
    "ExecuteTime": {
     "start_time": "2025-10-20T00:41:19.922572Z"
    }
   },
   "source": [
    "from typing import Tuple, List, Set\n",
    "from analysis.task5 import query_probes_with_identity, get_identities_with_lowest_and_highest_ap_k\n",
    "from analysis.task1 import add_identities\n",
    "\n",
    "import os\n",
    "os.chdir('./..')\n",
    "\n",
    "identified_embeddings = add_identities()\n",
    "\n",
    "# Identity,\n",
    "samples = query_probes_with_identity()"
   ],
   "outputs": [
    {
     "name": "stderr",
     "output_type": "stream",
     "text": [
      "/home/random01/anaconda3/envs/ironclad-design/lib/python3.12/site-packages/requests/__init__.py:86: RequestsDependencyWarning: Unable to find acceptable character detection dependency (chardet or charset_normalizer).\n",
      "  warnings.warn(\n"
     ]
    }
   ],
   "execution_count": null
  },
  {
   "metadata": {},
   "cell_type": "code",
   "outputs": [],
   "execution_count": null,
   "source": [
    "worst_performing_identities, best_performing_identities, lowest_map, highest_map = get_identities_with_lowest_and_highest_ap_k([(x,y) for x,y,_ in samples])\n",
    "print(f\"Worst Performing Identities (map = {lowest_map}):\", worst_performing_identities)\n",
    "print(f\"Best Performing Identities (map = {highest_map}):\", best_performing_identities)\n",
    "\n",
    "worst_performing_identities: Set[str] = set(worst_performing_identities)\n",
    "best_performing_identities: Set[str] = set(best_performing_identities)\n",
    "\n",
    "distances: List[Tuple[str, List[float]]] = [(x, z) for x,_,z in samples]"
   ],
   "id": "2c29d1301a96b81a"
  },
  {
   "metadata": {},
   "cell_type": "code",
   "outputs": [],
   "execution_count": null,
   "source": "samples[0]",
   "id": "e8f229f95a63a38f"
  },
  {
   "metadata": {},
   "cell_type": "code",
   "outputs": [],
   "execution_count": null,
   "source": "",
   "id": "eb7eb8e55322749a"
  }
 ],
 "metadata": {
  "kernelspec": {
   "display_name": "Python 3",
   "language": "python",
   "name": "python3"
  },
  "language_info": {
   "codemirror_mode": {
    "name": "ipython",
    "version": 2
   },
   "file_extension": ".py",
   "mimetype": "text/x-python",
   "name": "python",
   "nbconvert_exporter": "python",
   "pygments_lexer": "ipython2",
   "version": "2.7.6"
  }
 },
 "nbformat": 4,
 "nbformat_minor": 5
}
